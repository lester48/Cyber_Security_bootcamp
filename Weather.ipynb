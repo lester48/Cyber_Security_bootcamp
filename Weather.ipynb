{
  "nbformat": 4,
  "nbformat_minor": 0,
  "metadata": {
    "colab": {
      "name": "Weather.ipynb",
      "provenance": [],
      "collapsed_sections": []
    },
    "kernelspec": {
      "name": "python3",
      "display_name": "Python 3"
    },
    "language_info": {
      "name": "python"
    }
  },
  "cells": [
    {
      "cell_type": "code",
      "metadata": {
        "id": "7l8AeQtFJHbk",
        "colab": {
          "base_uri": "https://localhost:8080/"
        },
        "outputId": "0379b930-0bf6-445f-f048-47c0ea84c1d9"
      },
      "source": [
        " import requests\n",
        "#import os\n",
        "from datetime import datetime\n",
        "api_key = 'ab915d957a3f1560136d95c467d0aa91'\n",
        "location = input(\"Enter the city name: \")\n",
        "complete_api_link = \"https://api.openweathermap.org/data/2.5/weather?q=\"+location+\"&appid=\"+api_key\n",
        "api_link = requests.get(complete_api_link)\n",
        "api_data = api_link.json()\n",
        "#create variables to store and display data\n",
        "temp_city = ((api_data['main']['temp']) - 273.15)\n",
        "weather_desc = api_data['weather'][0]['description']\n",
        "hmdt = api_data['main']['humidity']\n",
        "wind_spd = api_data['wind']['speed']\n",
        "date_time = datetime.now().strftime(\"%d %b %Y | %I:%M:%S %p\")\n",
        "print (\"-------------------------------------------------------------\")\n",
        "print (\"Weather Stats for - {}  || {}\".format(location.upper(), date_time))\n",
        "print (\"-------------------------------------------------------------\")\n",
        "print (\"Current temperature is: {:.2f} deg C\".format(temp_city))\n",
        "print (\"Current weather desc  :\",weather_desc)\n",
        "print (\"Current Humidity      :\",hmdt, '%')\n",
        "print (\"Current wind speed    :\",wind_spd ,'kmph')"
      ],
      "execution_count": null,
      "outputs": [
        {
          "output_type": "stream",
          "text": [
            "Enter the city name: gorakhpur\n",
            "-------------------------------------------------------------\n",
            "Weather Stats for - GORAKHPUR  || 24 Jun 2021 | 04:17:04 AM\n",
            "-------------------------------------------------------------\n",
            "Current temperature is: 39.34 deg C\n",
            "Current weather desc  : clear sky\n",
            "Current Humidity      : 16 %\n",
            "Current wind speed    : 0.16 kmph\n"
          ],
          "name": "stdout"
        }
      ]
    }
  ]
}